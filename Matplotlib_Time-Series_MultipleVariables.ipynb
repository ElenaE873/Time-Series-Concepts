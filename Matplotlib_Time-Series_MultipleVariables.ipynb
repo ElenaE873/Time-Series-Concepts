{
 "cells": [
  {
   "cell_type": "code",
   "execution_count": null,
   "id": "1102a5aa",
   "metadata": {},
   "outputs": [],
   "source": [
    "#starting from the import code\n",
    "\n",
    "import pandas as pd\n",
    "df = pd.read_csv('filename.csv', \n",
    "                 parse_dates=[\"Date-Column\"], \n",
    "                 index_col=\"Date-Column\")"
   ]
  },
  {
   "cell_type": "code",
   "execution_count": null,
   "id": "58e63322",
   "metadata": {},
   "outputs": [],
   "source": [
    "#adding multiple variables to a plot\n",
    "\n",
    "import matplotlib.pyplot as plt\n",
    "fig, ax = plt.subplots()\n",
    "\n",
    "ax.plot(df.index, df['column1'])\n",
    "ax.plot(df.index, df['column2'])\n",
    "\n",
    "ax.set_xlabel('Time')\n",
    "ax.set_ylabel('Y value')\n",
    "plt.show()"
   ]
  },
  {
   "cell_type": "code",
   "execution_count": null,
   "id": "f89efb7a",
   "metadata": {},
   "outputs": [],
   "source": [
    "#when the scales for the two column measurements are different\n",
    "#using twin axes to the rescue\n",
    "#this means: same subplot, but two different y-axis scales\n",
    "\n",
    "#creating a twin of the initial axes\n",
    "ax2 = ax.twin()    #they will share the SAME X-AXIS, but the y-axis will differ\n",
    "\n",
    "\n",
    "#example\n",
    "import matplotlib.pyplot as plt\n",
    "fig, ax = plt.subplots()\n",
    "\n",
    "ax.plot(df.index, df['column1'], color='blue')\n",
    "ax.set_xlabel('Time')\n",
    "ax.set_ylabel('Y value', color='blue')\n",
    "\n",
    "ax2 = ax.twinx()  #be sure to include the 'x', its' \"twinx\"\n",
    "ax2.plot(df.index, df['column2'], color='red')\n",
    "ax2.set_ylabel('Y value', color='red')\n",
    "\n",
    "plt.show()\n",
    "\n",
    "#there will be two scales, one on the right and one on the left\n",
    "#encoding them with different colors will make it easier to look at which is which\n",
    "\n",
    "#the ticks can further be added\n",
    "ax.tick_params('y', colors='blue')\n",
    "ax2.tick_params('y', colors='blue')"
   ]
  },
  {
   "cell_type": "code",
   "execution_count": null,
   "id": "25a94a63",
   "metadata": {},
   "outputs": [],
   "source": [
    "#implementing as a function to reuse\n",
    "\n",
    "#the function calls the methods of the axes object (just as above)\n",
    "def plot_timeseries(axes, x, y, color, xlabel, ylabel):\n",
    "    axes.plot(x, y, color=color)\n",
    "    axes.set_xlabel(xlabel)\n",
    "    axes.set_ylabel(ylabel, color=color)\n",
    "    axes.tick_params('y', colors=color)  #yes, here it is plural, not a typo\n",
    "    \n",
    "#callingn the function allows us not to repeat the code, and much simple to use\n",
    "fig, ax = plt.subplots()\n",
    "plot_timeseries(ax, df.index, df['column'],\n",
    "               'color-to-assign', 'X-Label Title', 'Y-Label Title')"
   ]
  },
  {
   "cell_type": "markdown",
   "id": "3b0c8fca",
   "metadata": {},
   "source": [
    "##### annotations"
   ]
  },
  {
   "cell_type": "markdown",
   "id": "17669800",
   "metadata": {},
   "source": [
    "Drawing attention to a part of the plot and including text to be able to give a brief notation that particular aspect of the graph."
   ]
  },
  {
   "cell_type": "code",
   "execution_count": null,
   "id": "01915a68",
   "metadata": {},
   "outputs": [],
   "source": [
    "#annotate method\n",
    "\n",
    "ax2.annotate(\"Description of the annotation\", xy=[pd.Timestamp(\"1999-01-01\"), 1])   \n",
    "                                                #yes, square brakets\n",
    "#xy position interested in annotating\n",
    "#x position is the timestamp\n",
    "#y position is the value of the y axis interested in\n",
    "\n",
    "\n",
    "#positioning the text\n",
    "\n",
    "ax2.annotate(\"Description of the annotation\", \n",
    "             xy=(pd.Timestamp(\"1999-01-01\"), 1),  #square brakes not used here\n",
    "             xytext=(pd.Timestamp('1999-01-01'), -0.2),\n",
    "            arrowprops={})\n",
    "             \n",
    "#documentation for annotation - http://matplotlib.org/users/annotations.html"
   ]
  }
 ],
 "metadata": {
  "kernelspec": {
   "display_name": "Python 3 (ipykernel)",
   "language": "python",
   "name": "python3"
  },
  "language_info": {
   "codemirror_mode": {
    "name": "ipython",
    "version": 3
   },
   "file_extension": ".py",
   "mimetype": "text/x-python",
   "name": "python",
   "nbconvert_exporter": "python",
   "pygments_lexer": "ipython3",
   "version": "3.9.7"
  }
 },
 "nbformat": 4,
 "nbformat_minor": 5
}
