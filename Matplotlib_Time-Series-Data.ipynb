{
 "cells": [
  {
   "cell_type": "markdown",
   "id": "67aa1683",
   "metadata": {},
   "source": [
    "If we want pandas to recognize data as time-series:\n",
    " - 1 - the date column needs to be parsed as a DATE\n",
    " - 2 - make the DATE column as the INDEX"
   ]
  },
  {
   "cell_type": "markdown",
   "id": "1145b6cc",
   "metadata": {},
   "source": [
    "This allows for calculating and operating on the dataset as continuous variables once the date is set as datetime datatype and as a the index"
   ]
  },
  {
   "cell_type": "code",
   "execution_count": null,
   "id": "32969993",
   "metadata": {},
   "outputs": [],
   "source": [
    "#a good guide to use when importaning time-series files\n",
    "\n",
    "import pandas as pd\n",
    "\n",
    "df = pd.read_csv('filename.csv', parse_dates=[\"Date-Column\"], index_col=\"Date-Column\")\n",
    "#parsing the data by the date column\n",
    "#indexing the data by the date column"
   ]
  },
  {
   "cell_type": "code",
   "execution_count": null,
   "id": "e2c02b51",
   "metadata": {},
   "outputs": [],
   "source": [
    "#checking index of the data dataframe\n",
    "df.index"
   ]
  },
  {
   "cell_type": "code",
   "execution_count": null,
   "id": "11d6792c",
   "metadata": {},
   "outputs": [],
   "source": [
    "#plotting the dataframe with date index\n",
    "\n",
    "import matplotlib.pyplot as plt\n",
    "fig, ax = plt.subplots()\n",
    "\n",
    "ax.plot(df.index, df['column'])  #column which to plot over time\n",
    "ax.set_xlabel('Time')\n",
    "ax.set_ylabel('Y value')\n",
    "plt.show()"
   ]
  },
  {
   "cell_type": "code",
   "execution_count": null,
   "id": "4dfc0431",
   "metadata": {},
   "outputs": [],
   "source": [
    "#choosing only a timeframe of the entire dataset\n",
    "partial_timeframe = df[\"1999-01-01\":\"2999-01-01\"]"
   ]
  }
 ],
 "metadata": {
  "kernelspec": {
   "display_name": "Python 3 (ipykernel)",
   "language": "python",
   "name": "python3"
  },
  "language_info": {
   "codemirror_mode": {
    "name": "ipython",
    "version": 3
   },
   "file_extension": ".py",
   "mimetype": "text/x-python",
   "name": "python",
   "nbconvert_exporter": "python",
   "pygments_lexer": "ipython3",
   "version": "3.9.7"
  }
 },
 "nbformat": 4,
 "nbformat_minor": 5
}
